{
 "cells": [
  {
   "cell_type": "code",
   "execution_count": null,
   "id": "85e7191f",
   "metadata": {},
   "outputs": [],
   "source": [
    "# Import packages\n",
    "\n",
    "# numpy version 1.22.3\n",
    "import numpy as np\n",
    "\n",
    "# pandas 1.2.4\n",
    "import pandas as pd\n",
    "\n",
    "# xgboost 1.5.2\n",
    "import xgboost as xgb\n",
    "\n",
    "# sklearn 1.0.2\n",
    "from sklearn.model_selection import train_test_split\n",
    "import joblib\n",
    "import os"
   ]
  },
  {
   "cell_type": "code",
   "execution_count": null,
   "id": "bec8fae6",
   "metadata": {},
   "outputs": [],
   "source": [
    "# Save excel as CSV and import data\n",
    "df = pd.read_csv(\"C:/Users/austin27x/Documents/Data/Austin/NET for Python.csv\")\n",
    "df"
   ]
  },
  {
   "cell_type": "code",
   "execution_count": null,
   "id": "a4798a9b",
   "metadata": {
    "scrolled": true
   },
   "outputs": [],
   "source": [
    "# Look for null data - get rid of null by editing excel file\n",
    "df.isnull().sum()"
   ]
  },
  {
   "cell_type": "code",
   "execution_count": null,
   "id": "25c99f44",
   "metadata": {},
   "outputs": [],
   "source": [
    "%matplotlib inline\n",
    "df.plot(kind = 'scatter', x = 'Net', y = 'Overall Seed')"
   ]
  },
  {
   "cell_type": "code",
   "execution_count": null,
   "id": "20cfe859",
   "metadata": {},
   "outputs": [],
   "source": [
    "%matplotlib inline\n",
    "df.plot(kind = 'scatter', x= 'RankAvg', y = 'Overall Seed')"
   ]
  },
  {
   "cell_type": "code",
   "execution_count": null,
   "id": "32986e18",
   "metadata": {},
   "outputs": [],
   "source": [
    "%matplotlib inline\n",
    "df.plot(kind = 'scatter', x = 'QualityNETAvg', y = 'Overall Seed')"
   ]
  },
  {
   "cell_type": "code",
   "execution_count": null,
   "id": "fe6e9d76",
   "metadata": {},
   "outputs": [],
   "source": [
    "# Prepare lists of attributes, features, and targets\n",
    "\n",
    "# Don't model on\n",
    "attributes = [\n",
    "'Team'\n",
    "]\n",
    "\n",
    "features = [\n",
    "'Q1 Win%',\n",
    "'Q2Win%',\n",
    "'Q3Win%',\n",
    "'Q4Win%',\n",
    "'QualityNETAvg', # Average of Kenpom, Sagarin, BPI, and Net\n",
    "'RankAvg',       # Average of KPI and SOR\n",
    "'AvgNetofConf'\n",
    "\n",
    "]\n",
    "\n",
    "target = ['Overall Seed']"
   ]
  },
  {
   "cell_type": "code",
   "execution_count": null,
   "id": "138c8d02",
   "metadata": {},
   "outputs": [],
   "source": [
    "features"
   ]
  },
  {
   "cell_type": "code",
   "execution_count": null,
   "id": "aaa1b0e0",
   "metadata": {},
   "outputs": [],
   "source": [
    "# Split the df into a copy of features and targets\n",
    "X = df[features].copy()\n",
    "y = df[target].copy()"
   ]
  },
  {
   "cell_type": "code",
   "execution_count": null,
   "id": "74d14158",
   "metadata": {},
   "outputs": [],
   "source": [
    "X"
   ]
  },
  {
   "cell_type": "code",
   "execution_count": null,
   "id": "e9c42e9b",
   "metadata": {},
   "outputs": [],
   "source": [
    "y"
   ]
  },
  {
   "cell_type": "code",
   "execution_count": null,
   "id": "3fd8db3d",
   "metadata": {},
   "outputs": [],
   "source": [
    "# Split df into train and test\n",
    "RANDOMSTATE=22\n",
    "xtrain, xtest, ytrain, ytest = train_test_split(X, y, test_size=0.2, random_state=RANDOMSTATE)"
   ]
  },
  {
   "cell_type": "code",
   "execution_count": null,
   "id": "41707421",
   "metadata": {},
   "outputs": [],
   "source": [
    "# Testing 80% of the model while keeping 20% of it the same\n",
    "xtrain"
   ]
  },
  {
   "cell_type": "code",
   "execution_count": null,
   "id": "6f44a940",
   "metadata": {},
   "outputs": [],
   "source": [
    "xtest"
   ]
  },
  {
   "cell_type": "code",
   "execution_count": null,
   "id": "ae12d55d",
   "metadata": {},
   "outputs": [],
   "source": [
    "ytrain"
   ]
  },
  {
   "cell_type": "code",
   "execution_count": null,
   "id": "ff728505",
   "metadata": {},
   "outputs": [],
   "source": [
    "ytest"
   ]
  },
  {
   "cell_type": "code",
   "execution_count": null,
   "id": "1d533331",
   "metadata": {},
   "outputs": [],
   "source": [
    "# Load model and create and save output\n",
    "from sklearn.linear_model import LinearRegression\n",
    "model = LinearRegression()\n",
    "model.fit(xtrain, ytrain)"
   ]
  },
  {
   "cell_type": "code",
   "execution_count": null,
   "id": "f45fbf6c",
   "metadata": {},
   "outputs": [],
   "source": [
    "model.intercept_"
   ]
  },
  {
   "cell_type": "code",
   "execution_count": null,
   "id": "cf39cbbe",
   "metadata": {},
   "outputs": [],
   "source": [
    "model.coef_"
   ]
  },
  {
   "cell_type": "code",
   "execution_count": null,
   "id": "2f90885f",
   "metadata": {},
   "outputs": [],
   "source": [
    "model.score(xtest,ytest)"
   ]
  },
  {
   "cell_type": "code",
   "execution_count": null,
   "id": "6c4303ba",
   "metadata": {},
   "outputs": [],
   "source": [
    "y_pred = model.predict(xtest)"
   ]
  },
  {
   "cell_type": "code",
   "execution_count": null,
   "id": "e3b0006d",
   "metadata": {},
   "outputs": [],
   "source": [
    "from sklearn.metrics import mean_absolute_error\n",
    "mean_absolute_error(ytest,y_pred)"
   ]
  },
  {
   "cell_type": "code",
   "execution_count": null,
   "id": "5d507f4e",
   "metadata": {},
   "outputs": [],
   "source": [
    "# Combine the xtest df with an attribute_df and target_df\n",
    "attribute_df = df[attributes].copy()\n",
    "target_df = df[target].copy()\n",
    "pred_df = xtest.join(attribute_df)\n",
    "pred_df = pred_df.join(target_df)"
   ]
  },
  {
   "cell_type": "code",
   "execution_count": null,
   "id": "7b4cb6e4",
   "metadata": {},
   "outputs": [],
   "source": [
    "# Create a new column in the df with predicted values\n",
    "pred_df['SeedPredicted'] = model.predict(xtest)"
   ]
  },
  {
   "cell_type": "code",
   "execution_count": null,
   "id": "0cc9ffae",
   "metadata": {},
   "outputs": [],
   "source": [
    "# Save df as a CSV\n",
    "pred_df.to_csv(\"C:/Users/austin27x/Documents/Data/Austin/SeedPredicted1.csv\")"
   ]
  },
  {
   "cell_type": "code",
   "execution_count": null,
   "id": "eb4837b3",
   "metadata": {},
   "outputs": [],
   "source": [
    "# FUTURE DATA\n",
    "new_df = pd.read_csv(\"C:/Users/austin27x/Documents/Data/Austin/NET 22-23 for Python.csv\")\n",
    "new_df"
   ]
  },
  {
   "cell_type": "code",
   "execution_count": null,
   "id": "a0592404",
   "metadata": {},
   "outputs": [],
   "source": [
    "new_df = new_df[features].copy()\n",
    "new_df"
   ]
  },
  {
   "cell_type": "code",
   "execution_count": null,
   "id": "725d8166",
   "metadata": {},
   "outputs": [],
   "source": [
    "new_pred_df = model.predict(new_df)\n",
    "new_pred_df"
   ]
  },
  {
   "cell_type": "code",
   "execution_count": null,
   "id": "ee8c4859",
   "metadata": {},
   "outputs": [],
   "source": [
    "new_pred_df = pd.DataFrame(new_pred_df)\n",
    "new_pred_df.to_csv(\"C:/Users/austin27x/Documents/Data/March Madness/PointsScoredPredictedGameStats2.csv\")"
   ]
  }
 ],
 "metadata": {
  "kernelspec": {
   "display_name": "Python 3 (ipykernel)",
   "language": "python",
   "name": "python3"
  },
  "language_info": {
   "codemirror_mode": {
    "name": "ipython",
    "version": 3
   },
   "file_extension": ".py",
   "mimetype": "text/x-python",
   "name": "python",
   "nbconvert_exporter": "python",
   "pygments_lexer": "ipython3",
   "version": "3.9.12"
  }
 },
 "nbformat": 4,
 "nbformat_minor": 5
}
